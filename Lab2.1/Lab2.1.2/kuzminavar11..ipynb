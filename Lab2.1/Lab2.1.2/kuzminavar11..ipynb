﻿{
  "metadata": {
    "name": "kuzminavar11",
    "kernelspec": {
      "language": "scala",
      "name": "spark2-scala"
    },
    "language_info": {
      "codemirror_mode": "text/x-scala",
      "file_extension": ".scala",
      "mimetype": "text/x-scala",
      "name": "scala",
      "pygments_lexer": "scala"
    }
  },
  "nbformat": 4,
  "nbformat_minor": 2,
  "cells": [
    {
      "cell_type": "code",
      "execution_count": 0,
      "metadata": {
        "autoscroll": "auto"
      },
      "outputs": [],
      "source": "CREATE KEYSPACE shops \nWITH replication \u003d {\n    \u0027class\u0027: \u0027SimpleStrategy\u0027,\n    \u0027replication_factor\u0027: 1\n};"
    },
    {
      "cell_type": "code",
      "execution_count": 1,
      "metadata": {
        "autoscroll": "auto"
      },
      "outputs": [],
      "source": "USE shops;\n\nCREATE TABLE products (\n    product_id int PRIMARY KEY,\n    name text,\n    price float,\n    category text,\n    stock int\n);"
    },
    {
      "cell_type": "code",
      "execution_count": 2,
      "metadata": {
        "autoscroll": "auto"
      },
      "outputs": [],
      "source": "DESCRIBE TABLE products;"
    },
    {
      "cell_type": "code",
      "execution_count": 3,
      "metadata": {
        "autoscroll": "auto"
      },
      "outputs": [],
      "source": "INSERT INTO products (product_id, name, price, category, stock) \nVALUES (1, \u0027Laptop\u0027, 357000, \u0027Electronics\u0027, 15);\n\nINSERT INTO products (product_id, name, price, category, stock) \nVALUES (2, \u0027Smartphone\u0027, 109699, \u0027Electronics\u0027, 25);\n\nINSERT INTO products (product_id, name, price, category, stock) \nVALUES (3, \u0027Desk Chair\u0027, 12570, \u0027Furniture\u0027, 8);\n\nINSERT INTO products (product_id, name, price, category, stock) \nVALUES (4, \u0027Coffee cup\u0027, 199, \u0027Kitchen\u0027, 50);"
    },
    {
      "cell_type": "code",
      "execution_count": 4,
      "metadata": {
        "autoscroll": "auto"
      },
      "outputs": [],
      "source": "SELECT *\nFROM shops.products;"
    },
    {
      "cell_type": "code",
      "execution_count": 5,
      "metadata": {
        "autoscroll": "auto"
      },
      "outputs": [],
      "source": "UPDATE products \nSET stock \u003d 20 \nWHERE product_id \u003d 2;"
    },
    {
      "cell_type": "code",
      "execution_count": 6,
      "metadata": {
        "autoscroll": "auto"
      },
      "outputs": [],
      "source": "SELECT *\nFROM shops.products;"
    }
  ]
}